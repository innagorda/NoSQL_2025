{
 "cells": [
  {
   "cell_type": "code",
   "execution_count": 1,
   "id": "c1bcb81f-d906-4a94-af13-b595c5878aa6",
   "metadata": {},
   "outputs": [
    {
     "name": "stdout",
     "output_type": "stream",
     "text": [
      "Collecting kafka-python\n",
      "  Downloading kafka_python-2.2.10-py2.py3-none-any.whl.metadata (10.0 kB)\n",
      "Downloading kafka_python-2.2.10-py2.py3-none-any.whl (309 kB)\n",
      "\u001b[2K   \u001b[90m━━━━━━━━━━━━━━━━━━━━━━━━━━━━━━━━━━━━━━━━\u001b[0m \u001b[32m309.3/309.3 kB\u001b[0m \u001b[31m1.7 MB/s\u001b[0m eta \u001b[36m0:00:00\u001b[0ma \u001b[36m0:00:01\u001b[0mm\n",
      "\u001b[?25hInstalling collected packages: kafka-python\n",
      "Successfully installed kafka-python-2.2.10\n"
     ]
    }
   ],
   "source": [
    "!pip install kafka-python"
   ]
  },
  {
   "cell_type": "code",
   "execution_count": 1,
   "id": "54018ee2-a43e-4a23-bccf-a566f1ed4b83",
   "metadata": {},
   "outputs": [],
   "source": [
    "import json\n",
    "import time\n",
    "import random"
   ]
  },
  {
   "cell_type": "code",
   "execution_count": 3,
   "id": "5ca34e5d-6895-4e4e-991b-ca9dc3cee166",
   "metadata": {},
   "outputs": [],
   "source": [
    "KAFKA_BOOTSTRAP_SERVER = \"localhost:9094\"\n",
    "TOPIC_NAME = \"orders\""
   ]
  },
  {
   "cell_type": "code",
   "execution_count": 5,
   "id": "1f694434-dde2-4e78-b489-b27862f253cf",
   "metadata": {},
   "outputs": [
    {
     "name": "stdout",
     "output_type": "stream",
     "text": [
      "Подключение успешно!\n"
     ]
    }
   ],
   "source": [
    "from kafka import KafkaProducer\n",
    "\n",
    "try:\n",
    "    producer = KafkaProducer(\n",
    "        bootstrap_servers=[KAFKA_BOOTSTRAP_SERVER],\n",
    "        request_timeout_ms=5000\n",
    "    )\n",
    "    print(\"Подключение успешно!\")\n",
    "    i = 0\n",
    "    while i <= 30:\n",
    "        producer.send(\n",
    "            TOPIC_NAME,\n",
    "            json.dumps({\"message\": f\"order - id {i}\"}).encode(\"utf-8\"),\n",
    "        )\n",
    "        i += 1\n",
    "        time.sleep(random.randint(1, 5))\n",
    "    producer.flush()\n",
    "\n",
    "    producer.close()\n",
    "except Exception as e:\n",
    "    print(f\"Ошибка: {e}\")\n"
   ]
  },
  {
   "cell_type": "code",
   "execution_count": null,
   "id": "1d31ae88-9596-4759-88f7-1443cf7d48fa",
   "metadata": {},
   "outputs": [
    {
     "name": "stdout",
     "output_type": "stream",
     "text": [
      "{\"orderid\":1001,\"amount\":599.99}\n",
      "{\"message\": \"order - id 6\"}\n",
      "{\"message\": \"order - id 10\"}\n",
      "{\"message\": \"order - id 15\"}\n",
      "{\"orderid\":1002,\"amount\":300}\n",
      "{\"message\": \"order - id 4\"}\n",
      "{\"message\": \"order - id 8\"}\n",
      "{\"message\": \"order - id 11\"}\n",
      "{\"message\": \"order - id 13\"}\n",
      "{\"message\": \"order - id 17\"}\n",
      "{\"message\": \"order - id 18\"}\n",
      "{\"message\": \"order - id 1\"}\n",
      "Hello, consumer!\n",
      "Very important message about orders\n",
      "Delivery status and some additional parameters\n",
      "The order is completed\n",
      "Goodbye, consumer!\n",
      "{\"message\": \"order - id 0\"}\n",
      "{\"message\": \"order - id 0\"}\n",
      "{\"message\": \"order - id 1\"}\n",
      "{\"message\": \"order - id 2\"}\n",
      "{\"message\": \"order - id 3\"}\n",
      "{\"message\": \"order - id 5\"}\n",
      "{\"message\": \"order - id 7\"}\n",
      "{\"message\": \"order - id 9\"}\n",
      "{\"message\": \"order - id 12\"}\n",
      "{\"message\": \"order - id 14\"}\n",
      "{\"message\": \"order - id 16\"}\n",
      "{\"message\": \"order - id 0\"}\n"
     ]
    }
   ],
   "source": [
    "from kafka import KafkaConsumer\n",
    "\n",
    "consumer = KafkaConsumer(\n",
    "    TOPIC_NAME,\n",
    "    bootstrap_servers=[KAFKA_BOOTSTRAP_SERVER],\n",
    "    auto_offset_reset=\"earliest\",\n",
    "    enable_auto_commit=True,\n",
    ")\n",
    "for message in consumer:\n",
    "    print(message.value.decode(\"utf-8\"))\n",
    "\n",
    "consumer.close()"
   ]
  },
  {
   "cell_type": "code",
   "execution_count": null,
   "id": "876103a0-d44b-46c6-8c83-a51aa58235ee",
   "metadata": {},
   "outputs": [],
   "source": []
  }
 ],
 "metadata": {
  "kernelspec": {
   "display_name": "Python 3 (ipykernel)",
   "language": "python",
   "name": "python3"
  },
  "language_info": {
   "codemirror_mode": {
    "name": "ipython",
    "version": 3
   },
   "file_extension": ".py",
   "mimetype": "text/x-python",
   "name": "python",
   "nbconvert_exporter": "python",
   "pygments_lexer": "ipython3",
   "version": "3.12.4"
  }
 },
 "nbformat": 4,
 "nbformat_minor": 5
}
